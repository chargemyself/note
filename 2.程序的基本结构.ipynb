{
 "cells": [
  {
   "cell_type": "markdown",
   "metadata": {},
   "source": [
    "以计算为目标对象写故事，就要用编程语言的语法规则，在语法规则的体系内写清楚角色和情节，写出来的故事就是源代码（source code），然后通过编程语言的编译器或者解释器让计算机运行源代码，得到我们的结果。  \n",
    "\n",
    "理解程序的结构，就是理解编程语言提供给我们的“表达方式”有哪些，我们可以怎么去讲故事，好的编程语言有很强的表达能力，用适合自己的编程语言书写代码经常会产生愉悦感，就来源于编程语言的表达力。\n",
    "\n",
    "编程语言就像程序员世界中的时尚品牌。\n",
    "\n",
    "- 强表达力：能够用简练的语法完成对各种逻辑的表达\n",
    "- 有助于抽象：能够帮助程序员更好第进行问题的抽象\n",
    "- 易于理解和学习：语法自然和流畅，容易为人所理解\n",
    "- 有独特性：至少在某个特定的领域有独特的优势，而不是面面俱到，但是处处平淡。"
   ]
  },
  {
   "cell_type": "markdown",
   "metadata": {},
   "source": [
    "## 程序的基本结构（一）：值与变量\n",
    "\n",
    "“值与变量”就是故事的角色，是源代码中的主语和宾语\n",
    "\n",
    "程序世界中出现的角色无非是各种数据，最基本数据包括：  \n",
    "\n",
    "- 逻辑上的真和假，大名叫布尔值（boolean）\n",
    "- 各种数字，包括整数和小数（在计算机中叫做浮点数float）\n",
    "- 表示文本的字符和字符串string\n",
    "\n",
    "除了这些最基本的数据，有高级一点的：  \n",
    "\n",
    "- 对象：是我们可以自定义的数据类型，一个对象可以有各种各样的属性attribute和方法method；\n",
    "- 数据容器：可以容纳数据的数据，比如一列数字。\n",
    "- 函数：函数是完成特定工作的一段源代码，函数是程序本身的组成部分，但函数也是数据\n",
    "\n",
    "数据在程序里存在两种形式，一种是值 value，另外一种是变量 variable。\n",
    "\n",
    "\n"
   ]
  },
  {
   "cell_type": "code",
   "execution_count": 14,
   "metadata": {},
   "outputs": [
    {
     "name": "stdout",
     "output_type": "stream",
     "text": [
      "<class 'int'>\n",
      "<class 'bool'> <class 'str'>\n"
     ]
    }
   ],
   "source": [
    "a =True\n",
    "b = \"true\"\n",
    "print(type(42))\n",
    "type(\"42\")\n",
    "print(type(a),type(b))"
   ]
  },
  {
   "cell_type": "code",
   "execution_count": 8,
   "metadata": {},
   "outputs": [
    {
     "data": {
      "text/plain": [
       "float"
      ]
     },
     "execution_count": 8,
     "metadata": {},
     "output_type": "execute_result"
    }
   ],
   "source": [
    "type(3.14)"
   ]
  },
  {
   "cell_type": "code",
   "execution_count": 15,
   "metadata": {},
   "outputs": [
    {
     "data": {
      "text/plain": [
       "str"
      ]
     },
     "execution_count": 15,
     "metadata": {},
     "output_type": "execute_result"
    }
   ],
   "source": [
    "a =\"hello wolrd\"\n",
    "type(a)"
   ]
  },
  {
   "cell_type": "code",
   "execution_count": 16,
   "metadata": {},
   "outputs": [
    {
     "data": {
      "text/plain": [
       "list"
      ]
     },
     "execution_count": 16,
     "metadata": {},
     "output_type": "execute_result"
    }
   ],
   "source": [
    "l = [1,2,3]\n",
    "type(l)"
   ]
  },
  {
   "cell_type": "markdown",
   "metadata": {},
   "source": [
    "- 42类型是int，integer，整数\n",
    "- 3.14 是float，浮点数，小数。\n",
    "- “42”或者“hello”，类型是str，string，即字符串\n",
    "- False 类型是bool，是boolean，布尔值，计算机中代表真和假，只有两个布尔值，True和False。（True，ture，False,false是不同的。）\n",
    "\n",
    "> 一般同类型的数据之间是可以发生一些运算的。比如数字之间可以加减程序，字符串可以串接起来。布尔值之间可以进行逻辑运算。而不同类型数据之间好像不同的五中，没办法交互，所以数据很重要。\n",
    "\n",
    "\n",
    "程序是给很多不同人用的，于是只有不同人输入不同的值才是可以的。于是就有了变量。\n",
    "\n",
    "我们需要一种东西能够来代替值写在程序中，而在程序运行时这些东西才根据用户输入变成实际的值，这就是变量。\n",
    "\n",
    "> 程序里的变量，能够进行数据的抽象，这个概念很重要。\n",
    "> 所有编程语言都支持值和变量，也支持把特定的值赋予某个变量，这种按此做就是赋值 。\n",
    "> 赋值之后变量就具有相应的值，同时也具有该值对应的类型，所以变量一经赋值就有了类型。"
   ]
  },
  {
   "cell_type": "markdown",
   "metadata": {},
   "source": [
    "如果我们想消灭一个变量，用del命令：于是赋值的那个变量就是没有赋值的状态，实际上无法使用，在哪里都会报错。"
   ]
  }
 ],
 "metadata": {
  "kernelspec": {
   "display_name": "Python 3",
   "language": "python",
   "name": "python3"
  },
  "language_info": {
   "codemirror_mode": {
    "name": "ipython",
    "version": 3
   },
   "file_extension": ".py",
   "mimetype": "text/x-python",
   "name": "python",
   "nbconvert_exporter": "python",
   "pygments_lexer": "ipython3",
   "version": "3.7.1"
  }
 },
 "nbformat": 4,
 "nbformat_minor": 2
}
