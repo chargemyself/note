{
 "cells": [
  {
   "cell_type": "markdown",
   "metadata": {},
   "source": [
    "# 理解编程语言\n",
    "\n",
    "编程（programing）并不算是一门科学，更像是一门手艺，里面有科学，有理论有思想，也有经验和体会。学习编程的方法是--赶紧动手开始写程序，如果不自己动手，听再多，再牛的课程讲解也没有用。\n",
    "在动手写程序的前提下，优秀的课程才能发挥作用-那就是缩短你走弯路的时间，就好像学踢足球和打高尔夫球，一开始就掌握正确的姿势很重要，之后就能事半功倍了。\n"
   ]
  },
  {
   "cell_type": "markdown",
   "metadata": {},
   "source": [
    "简单说，程序就是人类书写交由机器去执行的一系列指令，而编程语言是书写是遵照的语法规则。  \n",
    "\n",
    "编程就很想教孩子，计算就像一个孩子，一开始什么都不懂，也不会自己思考，但是非常听话，你教它怎样就怎样，一旦学会就不会忘记，可以不走样地很多次不出错，但是如果教的不对，他也会不折不扣的照做。和孩子教育，关键在理解对方的沟通语言，以及理解堆放会如何理解你的表达。\n",
    "\n",
    "\n",
    "## 计算机系统和CPU  \n",
    "\n",
    "计算机的三个部分：\n",
    "\n",
    "- 负责执行指令的中央处理器CPU\n",
    "- 负责存放CPU执行所需要的数据的内存\n",
    "- 各种外设，硬盘，键盘，鼠标，显示设备，网卡等\n",
    "\n",
    "\n",
    "交给计算的指令实际上就是CPU在一条一条地执行，执行过程中会读写内存里的数据，会调用各种外设的结构（通过一种叫做“设备驱动”的软件模块）来完成数据的输入输出（i/o）操作\n",
    "\n"
   ]
  }
 ],
 "metadata": {
  "kernelspec": {
   "display_name": "Python 3",
   "language": "python",
   "name": "python3"
  },
  "language_info": {
   "codemirror_mode": {
    "name": "ipython",
    "version": 3
   },
   "file_extension": ".py",
   "mimetype": "text/x-python",
   "name": "python",
   "nbconvert_exporter": "python",
   "pygments_lexer": "ipython3",
   "version": "3.7.1"
  }
 },
 "nbformat": 4,
 "nbformat_minor": 2
}
